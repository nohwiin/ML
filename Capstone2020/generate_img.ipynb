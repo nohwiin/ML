{
  "nbformat": 4,
  "nbformat_minor": 0,
  "metadata": {
    "colab": {
      "name": "generate_img_densenet.ipynb",
      "provenance": [],
      "collapsed_sections": [],
      "authorship_tag": "ABX9TyMcBDm/7IKz29aebS2Wx9wy",
      "include_colab_link": true
    },
    "kernelspec": {
      "name": "python3",
      "display_name": "Python 3"
    }
  },
  "cells": [
    {
      "cell_type": "markdown",
      "metadata": {
        "id": "view-in-github",
        "colab_type": "text"
      },
      "source": [
        "<a href=\"https://colab.research.google.com/github/nohwiin/ML/blob/master/Capstone2020/generate_img.ipynb\" target=\"_parent\"><img src=\"https://colab.research.google.com/assets/colab-badge.svg\" alt=\"Open In Colab\"/></a>"
      ]
    },
    {
      "cell_type": "code",
      "metadata": {
        "id": "BSdEJ47Jh7RF",
        "colab_type": "code",
        "colab": {}
      },
      "source": [
        "from google.colab import drive\n",
        "drive.mount('/gdrive')"
      ],
      "execution_count": null,
      "outputs": []
    },
    {
      "cell_type": "code",
      "metadata": {
        "id": "3jMlQBN0iFS4",
        "colab_type": "code",
        "colab": {}
      },
      "source": [
        "import os\n",
        "import random\n",
        "import numpy as np\n",
        "import errno\n",
        "import csv\n",
        "from PIL import Image\n",
        "import matplotlib.pyplot as plt\n",
        "import cv2"
      ],
      "execution_count": null,
      "outputs": []
    },
    {
      "cell_type": "code",
      "metadata": {
        "id": "Ov4Y6_nEbuQF",
        "colab_type": "code",
        "colab": {}
      },
      "source": [
        "import numpy\n",
        "\n",
        "def find_coeffs(pa, pb):\n",
        "    matrix = []\n",
        "    for p1, p2 in zip(pa, pb):\n",
        "        matrix.append([p1[0], p1[1], 1, 0, 0, 0, -p2[0]*p1[0], -p2[0]*p1[1]])\n",
        "        matrix.append([0, 0, 0, p1[0], p1[1], 1, -p2[1]*p1[0], -p2[1]*p1[1]])\n",
        "\n",
        "    A = numpy.matrix(matrix, dtype=numpy.float)\n",
        "    B = numpy.array(pb).reshape(8)\n",
        "\n",
        "    res = numpy.dot(numpy.linalg.inv(A.T * A) * A.T, B)\n",
        "    return numpy.array(res).reshape(8)"
      ],
      "execution_count": null,
      "outputs": []
    },
    {
      "cell_type": "code",
      "metadata": {
        "id": "aEtJSLiJh_jF",
        "colab_type": "code",
        "colab": {}
      },
      "source": [
        "def compose_images(foreground_path, background_path):\n",
        "    foreground = Image.open(foreground_path)\n",
        "\n",
        "    background = Image.open(background_path)\n",
        "    background = background.convert('RGBA')\n",
        "    background = background.resize((512,512))\n",
        "\n",
        "    # Rotate the foreground\n",
        "    angle_degrees = random.randint(0, 359)\n",
        "    foreground = foreground.rotate(angle_degrees, resample=Image.BICUBIC, expand=True)\n",
        "\n",
        "    # Pick something between .5 and 1\n",
        "    scale = random.uniform(0.5, 1)\n",
        "    new_size = (int(512 * scale), int(512 * scale))\n",
        "    foreground = foreground.resize(new_size, resample=Image.BICUBIC)\n",
        "\n",
        "    # Choose a random x,y position for the foreground\n",
        "    max_xy_position = (background.size[0] - foreground.size[0], background.size[1] - foreground.size[1])\n",
        "    paste_position = (random.randint(0, max_xy_position[0]), random.randint(0, max_xy_position[1]))\n",
        "\n",
        "    # Create a new foreground image as large as the background and paste it on top\n",
        "    new_foreground = Image.new('RGBA', background.size, color = (0, 0, 0, 0))\n",
        "    new_foreground.paste(foreground, paste_position)\n",
        "        \n",
        "    # Extract the alpha channel from the foreground and paste it into a new image the size of the background\n",
        "    alpha_mask = foreground.getchannel(3)\n",
        "    new_alpha_mask = Image.new('L', background.size, color=0)\n",
        "    new_alpha_mask.paste(alpha_mask, paste_position)\n",
        "    composite = Image.composite(new_foreground, background, new_alpha_mask)\n",
        "    \n",
        "    # Grab the alpha pixels above a specified threshold\n",
        "    alpha_threshold = 200\n",
        "    mask_arr = np.array(np.greater(np.array(new_alpha_mask), alpha_threshold), dtype=np.uint8)\n",
        "    hard_mask = Image.fromarray(np.uint8(mask_arr) * 255, 'L')\n",
        "\n",
        "    # Get the smallest & largest non-zero values in each dimension and calculate the bounding box\n",
        "    nz = np.nonzero(hard_mask)\n",
        "    padding_percent = 0.1\n",
        "\n",
        "    bbox_w = np.max(nz[1]) - np.min(nz[1])\n",
        "    bbox_w_padding = int(bbox_w * padding_percent)\n",
        "    bbox_h = np.max(nz[0]) - np.min(nz[0])\n",
        "    bbox_h_padding = int(bbox_h * padding_percent)\n",
        "\n",
        "    left = np.min(nz[1]) - bbox_w_padding\n",
        "    if left < 0:\n",
        "      left = 0\n",
        "    right = np.max(nz[1]) + bbox_w_padding\n",
        "    if right > 511:\n",
        "      right = 511\n",
        "    top = np.min(nz[0]) - bbox_h_padding\n",
        "    if top < 0:\n",
        "      top = 0\n",
        "    bottom = np.max(nz[0]) + bbox_h_padding\n",
        "    if bottom > 511:\n",
        "      bottom = 511\n",
        "\n",
        "    bbox = [left, top, right, bottom]\n",
        "\n",
        "    bbox_tuple = tuple(bbox)\n",
        "    composite = composite.crop(bbox_tuple)\n",
        "    composite = composite.resize((512,384))\n",
        "\n",
        "    return composite, hard_mask, bbox"
      ],
      "execution_count": null,
      "outputs": []
    },
    {
      "cell_type": "code",
      "metadata": {
        "id": "ddVMbXpUiIOx",
        "colab_type": "code",
        "colab": {}
      },
      "source": [
        "# Get lists of foreground and background image paths\n",
        "dataset_dir = '/gdrive/My Drive/Capstone2020'\n",
        "#Label = ['Can','Glass','Vinyl','PET','Plastic','Paper','Paperpack']\n",
        "Label = ['Paperpack']\n",
        "\n",
        "backgrounds_dir = os.path.join(dataset_dir, 'background')\n",
        "foregrounds_dir = os.path.join(dataset_dir, 'foreground')\n",
        "backgrounds = [os.path.join(backgrounds_dir, file_name) for file_name in os.listdir(backgrounds_dir)]\n",
        "\n",
        "output_dir = '/gdrive/My Drive/Capstone2020/Dataset/fake'\n",
        "\n",
        "try:\n",
        "  os.mkdir(output_dir)\n",
        "except OSError as exc:\n",
        "  if exc.errno != errno.EEXIST:\n",
        "    raise\n",
        "  pass\n",
        "\n",
        "for lb in Label:\n",
        "  save_dir = os.path.join(output_dir, lb)\n",
        "  try:\n",
        "    os.mkdir(save_dir)\n",
        "  except OSError as exc:\n",
        "    if exc.errno != errno.EEXIST:\n",
        "      raise\n",
        "    pass\n",
        "  label_dir = os.path.join(foregrounds_dir, lb)\n",
        "  foregrounds = [os.path.join(label_dir, file_name) for file_name in os.listdir(label_dir)]\n",
        "\n",
        "  foreground_idx = 0\n",
        "  iter_num = 760\n",
        "  for itr in range(iter_num):\n",
        "    background = random.choice(backgrounds)\n",
        "    composite, mask, bbox = compose_images(foregrounds[foreground_idx], background)\n",
        "    composite_path = os.path.join(save_dir, lb+'{0:04d}.png'.format(itr+1))\n",
        "    composite.save(composite_path)\n",
        "    foreground_idx+=1\n",
        "    if foreground_idx == len(foregrounds):\n",
        "      foreground_idx = 0"
      ],
      "execution_count": null,
      "outputs": []
    }
  ]
}