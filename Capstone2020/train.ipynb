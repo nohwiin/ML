{
  "nbformat": 4,
  "nbformat_minor": 0,
  "metadata": {
    "colab": {
      "name": "train.ipynb",
      "provenance": [],
      "collapsed_sections": [],
      "include_colab_link": true
    },
    "kernelspec": {
      "name": "python3",
      "display_name": "Python 3"
    },
    "accelerator": "GPU"
  },
  "cells": [
    {
      "cell_type": "markdown",
      "metadata": {
        "id": "view-in-github",
        "colab_type": "text"
      },
      "source": [
        "<a href=\"https://colab.research.google.com/github/nohwiin/ML/blob/master/Capstone2020/train.ipynb\" target=\"_parent\"><img src=\"https://colab.research.google.com/assets/colab-badge.svg\" alt=\"Open In Colab\"/></a>"
      ]
    },
    {
      "cell_type": "code",
      "metadata": {
        "id": "HQ3oVBBrbpnf",
        "colab_type": "code",
        "colab": {}
      },
      "source": [
        "from google.colab import drive\n",
        "drive.mount('/gdrive')"
      ],
      "execution_count": null,
      "outputs": []
    },
    {
      "cell_type": "code",
      "metadata": {
        "id": "FXFam9HObugV",
        "colab_type": "code",
        "colab": {}
      },
      "source": [
        "%cd \"/gdrive/My Drive/Capstone2020/classification\""
      ],
      "execution_count": null,
      "outputs": []
    },
    {
      "cell_type": "code",
      "metadata": {
        "id": "3pLCucdLb8dh",
        "colab_type": "code",
        "colab": {}
      },
      "source": [
        "! ls"
      ],
      "execution_count": null,
      "outputs": []
    },
    {
      "cell_type": "code",
      "metadata": {
        "id": "xydXTxM4j53B",
        "colab_type": "code",
        "colab": {}
      },
      "source": [
        "%load_ext autoreload\n",
        "%autoreload 2"
      ],
      "execution_count": null,
      "outputs": []
    },
    {
      "cell_type": "code",
      "metadata": {
        "id": "aOEebPIVlJ18",
        "colab_type": "code",
        "colab": {}
      },
      "source": [
        "import torch\n",
        "\n",
        "\n",
        "class AddGaussianNoise(object):\n",
        "    def __init__(self, mean=0., std=1.):\n",
        "        self.std = std\n",
        "        self.mean = mean\n",
        "\n",
        "\n",
        "    def __call__(self, tensor):\n",
        "        noise = tensor + torch.randn(tensor.size()) * self.std + self.mean\n",
        "        return noise\n",
        "\n",
        "    def __repr__(self):\n",
        "        return self.__class__.__name__ + '(mean={0}, std={1})'.format(self.mean, self.std)\n",
        "\n",
        "# 출처 https://discuss.pytorch.org/t/how-to-add-noise-to-mnist-dataset-when-using-pytorch/59745"
      ],
      "execution_count": null,
      "outputs": []
    },
    {
      "cell_type": "code",
      "metadata": {
        "id": "fv-NuclAcGeN",
        "colab_type": "code",
        "colab": {}
      },
      "source": [
        "from torchvision import transforms\n",
        "from torch.utils.data import DataLoader\n",
        "from garbage_cls import dataset\n",
        "from garbage_cls import data\n",
        "from garbage_cls import GarbageCls\n",
        "from torch import nn\n",
        "from torchvision import models\n",
        "import torchvision.transforms\n",
        "from torchvision.transforms import CenterCrop, RandomHorizontalFlip, ToTensor, Normalize, RandomApply, RandomPerspective,RandomVerticalFlip,Resize\n",
        "\n",
        "\n",
        "DATA_ROOT_DIR= '/gdrive/My Drive/Capstone2020/Dataset'\n",
        "\n",
        "app = GarbageCls(DATA_ROOT_DIR, 'checkpoints')\n",
        "\n",
        "hyper_params = {\n",
        "    'num_epochs': 100,\n",
        "    'lr': 0.001,\n",
        "    'lr_gamma': 0.5,\n",
        "    'lr_milestones': [80],\n",
        "    'log_interval': 10,\n",
        "    'checkpoint_interval': 1000\n",
        "}\n",
        "# batch size =128\n",
        "    \n",
        "app.set_hyper_params(**hyper_params)\n",
        "\n",
        "model = models.densenet121(pretrained=True)\n",
        "\n",
        "in_features = model.classifier.in_features\n",
        "# 전체 freeze\n",
        "for param in model.parameters():\n",
        "    param.requires_grad_(False)\n",
        "    pass\n",
        "\n",
        "for param in model.features[-2].parameters():\n",
        "  param.requires_grad_(True)\n",
        "  pass\n",
        "\n",
        "model.classifier = nn.Linear(in_features, app.num_classes)\n",
        "\n",
        "model = model.cuda()\n",
        "               \n",
        "app.set_model(model)\n",
        "\n",
        "app.set_data_transform('train', transforms.Compose(\n",
        "                          [\n",
        "                           Resize((300,300)),\n",
        "                           RandomHorizontalFlip(),\n",
        "                           RandomVerticalFlip(),\n",
        "                           ToTensor(),\n",
        "                           Normalize([0.485, 0.456, 0.406], [0.229, 0.224, 0.225]),\n",
        "                           RandomApply([AddGaussianNoise(0., 0.1)], p=0.2)\n",
        "                           ])\n",
        "                      )\n",
        "app.set_data_transform('val', transforms.Compose(\n",
        "                        [\n",
        "                         Resize((300,300)),\n",
        "                         ToTensor(),\n",
        "                         Normalize([0.485, 0.456, 0.406], [0.229, 0.224, 0.225])\n",
        "                        ])\n",
        "                      )\n",
        "\n",
        "app.run()"
      ],
      "execution_count": null,
      "outputs": []
    },
    {
      "cell_type": "code",
      "metadata": {
        "id": "UtxQvMp9bQvy",
        "colab_type": "code",
        "colab": {}
      },
      "source": [
        "from torchvision import transforms\n",
        "from torch.utils.data import DataLoader\n",
        "from garbage_cls import dataset\n",
        "from garbage_cls import data\n",
        "from garbage_cls import GarbageCls\n",
        "from torch import nn\n",
        "from torchvision import models\n",
        "import torchvision.transforms\n",
        "from torchvision.transforms import CenterCrop, RandomHorizontalFlip, ToTensor, Normalize, RandomApply, RandomPerspective,RandomVerticalFlip,ColorJitter,Resize\n",
        "\n",
        "TEST_ROOT_DIR='/gdrive/My Drive/Capstone2020/Dataset'\n",
        "\n",
        "app = GarbageCls(TEST_ROOT_DIR, 'checkpoints')\n",
        "\n",
        "# DenseNet initializae\n",
        "model = models.densenet121(pretrained=True)\n",
        "in_features = model.classifier.in_features\n",
        "for param in model.parameters():\n",
        "    param.requires_grad_(False)\n",
        "    pass\n",
        "\n",
        "model.classifier = nn.Linear(in_features, app.num_classes)\n",
        "\n",
        "model = model.cuda()\n",
        "app.set_model(model)\n",
        "\n",
        "app.set_data_transform('test', transforms.Compose([\n",
        "                         Resize((300,300)),\n",
        "                         ToTensor(),\n",
        "                         Normalize([0.485, 0.456, 0.406], [0.229, 0.224, 0.225])])\n",
        "                      )\n",
        "\n",
        "app.test()"
      ],
      "execution_count": null,
      "outputs": []
    },
    {
      "cell_type": "code",
      "metadata": {
        "id": "Ci6EBfq8Pau8",
        "colab_type": "code",
        "colab": {}
      },
      "source": [
        "# model.cpu()\n",
        "# model.eval()\n",
        "# example = torch.rand(1, 3, 224, 224)\n",
        "# traced_script_module = torch.jit.trace(model, example)\n",
        "# traced_script_module.save(\"/gdrive/My Drive/model.pt\")"
      ],
      "execution_count": null,
      "outputs": []
    }
  ]
}