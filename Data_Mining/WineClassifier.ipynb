{
  "nbformat": 4,
  "nbformat_minor": 0,
  "metadata": {
    "colab": {
      "name": "WindClassifier.ipynb",
      "provenance": [],
      "collapsed_sections": [],
      "include_colab_link": true
    },
    "kernelspec": {
      "display_name": "Python 3",
      "language": "python",
      "name": "python3"
    },
    "language_info": {
      "codemirror_mode": {
        "name": "ipython",
        "version": 3
      },
      "file_extension": ".py",
      "mimetype": "text/x-python",
      "name": "python",
      "nbconvert_exporter": "python",
      "pygments_lexer": "ipython3",
      "version": "3.7.4"
    },
    "accelerator": "GPU"
  },
  "cells": [
    {
      "cell_type": "markdown",
      "metadata": {
        "id": "view-in-github",
        "colab_type": "text"
      },
      "source": [
        "<a href=\"https://colab.research.google.com/github/nohwiin/ML/blob/master/Data_Mining/WineClassifier.ipynb\" target=\"_parent\"><img src=\"https://colab.research.google.com/assets/colab-badge.svg\" alt=\"Open In Colab\"/></a>"
      ]
    },
    {
      "cell_type": "code",
      "metadata": {
        "colab_type": "code",
        "id": "3rsyN-78ocI6",
        "colab": {}
      },
      "source": [
        "from google.colab import drive\n",
        "drive.mount('/gdrive')"
      ],
      "execution_count": null,
      "outputs": []
    },
    {
      "cell_type": "markdown",
      "metadata": {
        "colab_type": "text",
        "id": "AH7bAAGcobV3"
      },
      "source": [
        "# 와인 감별사 : 와인의 Quality를 분류하는 Classifier 만들기\n",
        "\n",
        "## 1. 과제 설명\n",
        "이번 과제에서는 케라스(Keras)를 활용하여, 와인의 품질을 분류하는 인공신경망 분류기를 만들어 볼 것입니다.\n",
        "케라스는 Tensorflow, Theano 등의 딥 러닝 라이브러리 위에서 동작하는 오픈 소스 라이브러리로, 보다 쉬운 API를 제공함으로써 모델 설계 및 학습, 테스트가 간단하다는 장점이 있습니다. \n",
        "\n",
        "### 1.1 케라스 설치를 위한 필수 라이브러리\n",
        "케라스를 설치하기 전에 먼저 필수적으로 설치해야 할 것들이 있습니다.\n",
        "* Anaconda : Python 3.x 버전, Numpy, Pandas, SciPy, sklearn 등 필수 라이브러리들이 포함된 통합 배포 팩\n",
        "<br> 아나콘다 설치 : https://www.anaconda.com/distribution/#download-section\n",
        "* Tensorflow : Google에서 개발한 오픈 소스 딥 러닝 라이브러리. <b>설치된 Python 버전과 호환되는 것으로 설치할것!</b>\n",
        "<br> 텐서플로우 설치 : https://www.tensorflow.org/install/pip\n",
        "<br> * CPU 버전을 설치할 것을 권장. \n",
        "\n",
        "### 1.2 케라스 설치\n",
        "위 라이브러리들을 설치한 후, 케라스를 설치합니다.\n",
        "* https://keras.io/#installation\n",
        "\n",
        "### 1.3 케라스 설치 확인\n",
        "케라스가 올바르게 설치되었는지 확인하기 위해, 케라스를 Import한 뒤 버전을 출력해봅니다.\n"
      ]
    },
    {
      "cell_type": "code",
      "metadata": {
        "colab_type": "code",
        "id": "RdWzUjvZobV4",
        "colab": {}
      },
      "source": [
        "import keras\n",
        "\n",
        "keras.__version__"
      ],
      "execution_count": null,
      "outputs": []
    },
    {
      "cell_type": "markdown",
      "metadata": {
        "colab_type": "text",
        "id": "lWlwSKksobV_"
      },
      "source": [
        "위와 같이 케라스의 버전이 출력되면 정상입니다. (출력되는 버전은 위 예시와 다를 수도 있음)<br> 나중에 신경망을 만들기 위한 클래스들도 함께 Import 합시다."
      ]
    },
    {
      "cell_type": "code",
      "metadata": {
        "colab_type": "code",
        "id": "ruFtS02AobWA",
        "colab": {}
      },
      "source": [
        "from keras import Sequential\n",
        "from keras.layers import Dense, Activation, Dropout, BatchNormalization"
      ],
      "execution_count": null,
      "outputs": []
    },
    {
      "cell_type": "markdown",
      "metadata": {
        "colab_type": "text",
        "id": "ZggQC1JiobWC"
      },
      "source": [
        "---\n",
        "## 2. Data Set 설명\n",
        " 본 과제에서 사용할 데이터 셋은 UCI에서 제공되는 Wine Quality Data Set입니다. (https://archive.ics.uci.edu/ml/datasets/Wine+Quality) 데이터는 레드 와인 1599개, 화이트 와인 4898개의 화학적 특성을 포함하고 있습니다. 데이터는 두 개의 CSV(Comma-seperated values)형태로 제공되며, 구성은 다음과 같습니다.\n",
        "* 화이트 와인 / 레드 와인 CSV 파일\n",
        "* 11개의 실수(Real) 입력 변수 (X)\n",
        "    * fixed acidity\n",
        "    * volatile acidity\n",
        "    * citric acid\n",
        "    * residual sugar\n",
        "    * chlorides\n",
        "    * free sulfur dioxide\n",
        "    * total sulfur dioxide\n",
        "    * density\n",
        "    * pH\n",
        "    * sulphates\n",
        "    * alcohol\n",
        "* 1개의 클래스 레이블 (Y)\n",
        "   * quality (0~10, 0: Very poor, 10: Very excellent)\n",
        "* Missing Value 없음\n",
        "* 클래스들이 불균등하게 분포함.\n",
        "\n",
        "더 자세한 사항은 블랙보드에 함께 올라가있는 설명 파일을 참고하도록 합시다.\n",
        "\n",
        "### 2.1 데이터 로드\n",
        "데이터 분석에서 가장 많이 사용되는 라이브러리 중 하나인 Pandas와 Numpy를 Import하겠습니다. Pandas는 데이터 분석에 유용한 데이터 타입인 DataFrame을 제공하며, Numpy는 효율적이고 빠른 매트릭스 연산을 지원합니다."
      ]
    },
    {
      "cell_type": "code",
      "metadata": {
        "colab_type": "code",
        "id": "j5kTZyX1obWD",
        "colab": {}
      },
      "source": [
        "import pandas as pd\n",
        "pd.__version__\n",
        "pd.options.display.max_rows=15"
      ],
      "execution_count": null,
      "outputs": []
    },
    {
      "cell_type": "code",
      "metadata": {
        "colab_type": "code",
        "id": "G0thM0X0obWG",
        "colab": {}
      },
      "source": [
        "import numpy as np\n",
        "np.__version__"
      ],
      "execution_count": null,
      "outputs": []
    },
    {
      "cell_type": "markdown",
      "metadata": {
        "colab_type": "text",
        "id": "fHEmT15sobWJ"
      },
      "source": [
        "Pandas를 이용해서 CSV 파일을 읽어들이도록 합시다. white_wine 변수에는 화이트 와인 데이터를, red_wine 변수에는 레드 와인 데이터를 읽어들입니다."
      ]
    },
    {
      "cell_type": "code",
      "metadata": {
        "colab_type": "code",
        "id": "t0s-aG2SobWJ",
        "colab": {}
      },
      "source": [
        "red_wine = pd.read_csv('/gdrive/My Drive/WineClassifier/winequality-red.csv')\n",
        "white_wine = pd.read_csv('/gdrive/My Drive/WineClassifier/winequality-white.csv')\n",
        "\n",
        "pass"
      ],
      "execution_count": null,
      "outputs": []
    },
    {
      "cell_type": "markdown",
      "metadata": {
        "colab_type": "text",
        "id": "E3zUEFZtobWM"
      },
      "source": [
        "### 2.2 데이터 전처리\n",
        "데이터를 읽어들인 뒤, 읽어들인 데이터프레임을 display 함수를 통해 확인합니다."
      ]
    },
    {
      "cell_type": "code",
      "metadata": {
        "colab_type": "code",
        "id": "IR2Bk48fobWM",
        "colab": {}
      },
      "source": [
        "display(white_wine)"
      ],
      "execution_count": null,
      "outputs": []
    },
    {
      "cell_type": "code",
      "metadata": {
        "colab_type": "code",
        "id": "aoIonV7KobWP",
        "colab": {}
      },
      "source": [
        "display(red_wine)"
      ],
      "execution_count": null,
      "outputs": []
    },
    {
      "cell_type": "markdown",
      "metadata": {
        "colab_type": "text",
        "id": "YA0L1jCDobWS"
      },
      "source": [
        "이제 데이터프레임을 입력 변수와 정답 셋(클래스 레이블)으로 나누는 함수를 작성하겠습니다.<br>\n",
        "<b>generate_data</b>함수는 데이터프레임 객체와 테스트 셋 비율을 입력으로 받아, 네 개의 numpy array를 반환합니다. 트레이닝 셋과 테스트 셋의 비율은 training_set_ratio에 의해 결정됩니다.\n",
        "* Function : generate_data\n",
        " * 입력\n",
        "     * pd.DataFrame : df\n",
        "     * double : training_set_ratio  \n",
        " * 출력\n",
        "     * np.array : X_train\n",
        "     * np.array : Y_train\n",
        "     * np.array : X_test\n",
        "     * np.array : Y_test\n",
        "     \n"
      ]
    },
    {
      "cell_type": "code",
      "metadata": {
        "colab_type": "code",
        "id": "sHHRgjpWobWT",
        "colab": {}
      },
      "source": [
        "#####################################################\n",
        "\n",
        "\"\"\"\n",
        "X_train : training set value\n",
        "Y_train : training set target value\n",
        "X_test : test set value\n",
        "Y_test : test set target value\n",
        "\"\"\"\n",
        "\n",
        "import random\n",
        "\n",
        "def generate_data(df, t_r):\n",
        "\n",
        "    X_cls = ['fixed acidity','volatile acidity','citric acid','residual sugar','chlorides',\n",
        "             'free sulfur dioxide','total sulfur dioxide','density','pH','sulphates','alcohol']\n",
        "    Y_cls ='quality'    \n",
        "\n",
        "    random.seed(500)\n",
        "    train = df.sample(frac=t_r)\n",
        "    test = df.drop(train.index)\n",
        "\n",
        "    X_train = train[X_cls]\n",
        "    Y_train = train[Y_cls]\n",
        "    X_test = test[X_cls]\n",
        "    Y_test = test[Y_cls]\n",
        "\n",
        "    pass\n",
        "\n",
        "    return X_train.values, Y_train, X_test.values, Y_test\n",
        "\n",
        "#####################################################"
      ],
      "execution_count": null,
      "outputs": []
    },
    {
      "cell_type": "code",
      "metadata": {
        "colab_type": "code",
        "id": "A-kAXFUkobWV",
        "colab": {}
      },
      "source": [
        "x_train, y_train, x_test, y_test = generate_data(white_wine, 0.7)"
      ],
      "execution_count": null,
      "outputs": []
    },
    {
      "cell_type": "markdown",
      "metadata": {
        "colab_type": "text",
        "id": "ctr0KTQ7obWX"
      },
      "source": [
        "작성한 함수를 호출하여 화이트 와인 데이터에 대해 트레이닝 셋과 테스트 셋의 입력과 정답이 적절하게 생성되었는지 확인합니다.\n",
        "\n",
        "---"
      ]
    },
    {
      "cell_type": "markdown",
      "metadata": {
        "colab_type": "text",
        "id": "FWOKgPSaobWY"
      },
      "source": [
        "# 3. 케라스를 이용한 모델 생성, 학습, 테스트\n",
        "입력 데이터와 정답 셋이 만들어졌으니 케라스를 사용하여 각 데이터에 대한 분류기를 생성하고, 트레이닝 셋으로 학습시킨 뒤 테스트 정확도를 관찰합니다."
      ]
    },
    {
      "cell_type": "markdown",
      "metadata": {
        "colab_type": "text",
        "id": "FO4OxZuhobWZ"
      },
      "source": [
        "# 과제\n",
        "### 1. 화이트 와인 분류 모델과 레드 와인 분류 모델 설계 및 학습\n",
        "* 하나의 히든 레이어에 32개의 노드를 가진 인공신경망 모델 생성 및 모델 학습\n",
        "* 트레이닝 Epoch에 따라 Loss의 변화를 그래프로 시각화\n",
        "* 테스트 셋에 대한 정확도 기록"
      ]
    },
    {
      "cell_type": "code",
      "metadata": {
        "colab_type": "code",
        "id": "gE8UhHrNobWZ",
        "colab": {}
      },
      "source": [
        "##########################################################\n",
        "\n",
        "from tensorflow.keras.losses import sparse_categorical_crossentropy\n",
        "import matplotlib.pyplot as plt\n",
        "\n",
        "WineClassifier_1 = Sequential()\n",
        "\n",
        "WineClassifier_1.add(Dense(32, input_shape = (11,), activation = 'relu'))\n",
        "WineClassifier_1.add(Dense(11, activation = 'softmax'))\n",
        "\n",
        "WineClassifier_1.compile(loss='sparse_categorical_crossentropy', optimizer='adam', metrics=['accuracy'])\n",
        "\n",
        "WineClassifier_1.summary()\n",
        "\n",
        "num_epochs = 200\n",
        "\n",
        "history = WineClassifier_1.fit(x_train, y_train, batch_size = 32, epochs = num_epochs)\n",
        "\n",
        "fig = plt.figure()\n",
        "graph = fig.add_subplot(111)\n",
        "graph.plot(range(num_epochs), history.history['loss'], label='Loss', color='darkred')\n",
        "plt.xlabel('num_epochs')\n",
        "plt.ylabel('Loss')\n",
        "plt.ylim(0,2)\n",
        "graph.grid(linestyle='--', color='lavender')\n",
        "\n",
        "results = WineClassifier_1.evaluate(x_test, y_test)\n",
        "\n",
        "print('Accuracy : ', results[1])\n",
        "\n",
        "pass\n",
        "\n",
        "###########################################################"
      ],
      "execution_count": null,
      "outputs": []
    },
    {
      "cell_type": "markdown",
      "metadata": {
        "colab_type": "text",
        "id": "5aI6JweqobWc"
      },
      "source": [
        "### 2. 각 모델의 성능을 향상시킬 수 있는 방법 적용\n",
        "* 하이퍼파라미터를 변경하여 테스트 셋에서의 정확도를 향상시킬 것\n",
        "    * 예) 레이어 수, 노드 수, Learning rate 등\n",
        "* 하이퍼파라미터를 변화시킨 각각의 모델에 대해, 트레이닝 Epoch 당 Loss의 변화를 기록하고 이를 시각화\n",
        "* 그 외 성능을 향상시킬 수 있는 모든 방법을 사용하여 가장 성능이 좋은 모델을 선택\n",
        "    * 예) Dropout, Normalization 등"
      ]
    },
    {
      "cell_type": "code",
      "metadata": {
        "id": "q2jSmetZx3Sc",
        "colab_type": "code",
        "colab": {}
      },
      "source": [
        "##########################################################\n",
        "\n",
        "from tensorflow.keras.losses import sparse_categorical_crossentropy\n",
        "import matplotlib.pyplot as plt\n",
        "from keras.wrappers.scikit_learn import KerasClassifier\n",
        "from sklearn.ensemble import VotingClassifier\n",
        "from sklearn.metrics import accuracy_score\n",
        "\n",
        "model_num = 3\n",
        "models = list()\n",
        "history = []\n",
        "\n",
        "for i in range(model_num):\n",
        "  WineClassifier_2 = Sequential()\n",
        "\n",
        "  WineClassifier_2.add(Dense(30, input_shape = (11,)))\n",
        "  WineClassifier_2.add(BatchNormalization())\n",
        "  WineClassifier_2.add(Activation('relu'))\n",
        "  WineClassifier_2.add(Dropout(0.2))\n",
        "  WineClassifier_2.add(Dense(11, activation = 'softmax'))\n",
        "\n",
        "  WineClassifier_2.compile(loss='sparse_categorical_crossentropy', optimizer='adam', metrics=['accuracy'])\n",
        "\n",
        "  WineClassifier_2.summary()\n",
        "\n",
        "  num_epochs = 1000\n",
        "\n",
        "  history.append(WineClassifier_2.fit(x_train, y_train, batch_size = 32, epochs = num_epochs))\n",
        "  models.append(WineClassifier_2)\n",
        "\n",
        "  pass\n",
        "\n",
        "fig = plt.figure()\n",
        "for i in range(model_num):\n",
        "  graph = fig.add_subplot(1,model_num,i+1)\n",
        "  graph.plot(range(num_epochs), history[i].history['loss'], label='Loss', color='darkred')\n",
        "  plt.xlabel('num_epochs')\n",
        "  plt.ylabel('Loss')\n",
        "  plt.ylim(0,1.5)\n",
        "  graph.grid(linestyle='--', color='lavender')\n",
        "\n",
        "yhats = [model.predict(x_test) for model in models]\n",
        "\n",
        "summed = np.sum(yhats,axis=0)\n",
        "outcomes = np.argmax(summed,axis=1)\n",
        "\n",
        "print('Test accuracy:', accuracy_score(outcomes, y_test))\n",
        "\n",
        "pass\n",
        "\n",
        "###########################################################"
      ],
      "execution_count": null,
      "outputs": []
    },
    {
      "cell_type": "markdown",
      "metadata": {
        "colab_type": "text",
        "id": "KJ_KUtH2obWf"
      },
      "source": [
        "### 3. 화이트 와인과 레드 와인을 하나의 모델만 사용하여 분류\n",
        "* 화이트 와인과 레드 와인 데이터를 합쳐 wine 데이터 셋 생성\n",
        "* 입력이 화이트 와인인지 레드 와인인지에 관계없이 와인 품질을 분류하는 모델 생성\n",
        "* 모델의 성능을 향상시킬 수 있는 방법을 찾아 적용할 것\n"
      ]
    },
    {
      "cell_type": "code",
      "metadata": {
        "id": "8zRvm8CseWd2",
        "colab_type": "code",
        "colab": {}
      },
      "source": [
        "w_x_train, w_y_train, w_x_test, w_y_test = generate_data(white_wine, 0.7)\n",
        "r_x_train, r_y_train, r_x_test, r_y_test = generate_data(red_wine, 0.7)\n",
        "\n",
        "x_train = np.append(r_x_train,w_x_train,axis=0)\n",
        "y_train = np.append(r_y_train,w_y_train,axis=0)\n",
        "x_test = np.append(r_x_test,w_x_test,axis=0)\n",
        "y_test = np.append(r_y_test,w_y_test,axis=0)"
      ],
      "execution_count": null,
      "outputs": []
    },
    {
      "cell_type": "code",
      "metadata": {
        "id": "vyhhbIJbfKZK",
        "colab_type": "code",
        "colab": {}
      },
      "source": [
        "##########################################################\n",
        "from tensorflow.keras.losses import sparse_categorical_crossentropy\n",
        "import matplotlib.pyplot as plt\n",
        "from keras.wrappers.scikit_learn import KerasClassifier\n",
        "from sklearn.ensemble import VotingClassifier\n",
        "from sklearn.metrics import accuracy_score\n",
        "\n",
        "WineClassifier_3 = Sequential()\n",
        "\n",
        "WineClassifier_3.add(Dense(30, input_shape = (11,)))\n",
        "WineClassifier_3.add(BatchNormalization())\n",
        "WineClassifier_3.add(Activation('relu'))\n",
        "WineClassifier_3.add(Dropout(0.2))\n",
        "WineClassifier_3.add(Dense(30))\n",
        "WineClassifier_3.add(BatchNormalization())\n",
        "WineClassifier_3.add(Activation('relu'))\n",
        "WineClassifier_3.add(Dropout(0.2))\n",
        "WineClassifier_3.add(Dense(30))\n",
        "WineClassifier_3.add(BatchNormalization())\n",
        "WineClassifier_3.add(Activation('relu'))\n",
        "WineClassifier_3.add(Dropout(0.2))\n",
        "WineClassifier_3.add(Dense(11, activation = 'softmax'))\n",
        "\n",
        "WineClassifier_3.compile(loss='sparse_categorical_crossentropy', optimizer='adam', metrics=['accuracy'])\n",
        "\n",
        "WineClassifier_3.summary()\n",
        "\n",
        "num_epochs = 1000\n",
        "\n",
        "history = WineClassifier_3.fit(x_train, y_train, batch_size = 32, epochs = num_epochs)\n",
        "\n",
        "fig = plt.figure()\n",
        "graph = fig.add_subplot(111)\n",
        "graph.plot(range(num_epochs), history.history['loss'], label='Loss', color='darkred')\n",
        "plt.xlabel('num_epochs')\n",
        "plt.ylabel('Loss')\n",
        "plt.ylim(0,1.5)\n",
        "graph.grid(linestyle='--', color='lavender')\n",
        "\n",
        "results = WineClassifier_3.evaluate(x_test, y_test)\n",
        "\n",
        "print('Accuracy : ', results[1])\n",
        "\n",
        "pass\n",
        "\n",
        "###########################################################"
      ],
      "execution_count": null,
      "outputs": []
    }
  ]
}